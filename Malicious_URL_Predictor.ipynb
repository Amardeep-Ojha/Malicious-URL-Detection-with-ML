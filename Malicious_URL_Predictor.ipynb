{
  "nbformat": 4,
  "nbformat_minor": 0,
  "metadata": {
    "colab": {
      "name": "Malicious URL Predictor.ipynb",
      "provenance": [],
      "collapsed_sections": [
        "9NDweq7kqQXS",
        "TD52CaEDqSua",
        "pWatBgyBZEZy",
        "Q2Kzrx8970Zq",
        "xXws95jzBpcC",
        "aAJK7U4901sx",
        "VJnB-FFwCKse",
        "0FpyYEaK0AXK",
        "cuOCCZ0N0ITx",
        "1iT2Ymr90Ryr",
        "UzC_VgqEE7mh",
        "oybCUH9tzuJN",
        "BOMP_-ymzbuo",
        "BOYVD36UzYLp",
        "LzpIslDdzVJh",
        "Kd2S7nCzzIpX"
      ]
    },
    "kernelspec": {
      "name": "python3",
      "display_name": "Python 3"
    }
  },
  "cells": [
    {
      "cell_type": "markdown",
      "metadata": {
        "id": "9NDweq7kqQXS"
      },
      "source": [
        "# Malicious URL Predictor\n",
        "\n",
        "---\n",
        "\n",
        "**Dataset:** https://github.com/MominRaza/Malicious-URL-Detection-with-ML\n",
        "\n",
        "**Goal:** This workbook will walk you through the steps to build, train, test, and evaluate a malicious URL predictor using the Scikit-learn machine learning library\n",
        "\n",
        "**Outline:** \n",
        "* Initial Setup\n",
        "* Tokenization\n",
        "* Load Training Data\n",
        "* Vectorize Training Data\n",
        "* Load Testing Data\n",
        "* Train and Evaluate Models"
      ]
    },
    {
      "cell_type": "markdown",
      "metadata": {
        "id": "pWatBgyBZEZy"
      },
      "source": [
        "# Initial Setup\n",
        "We'll start by downloading the data and loading the needed libraries."
      ]
    },
    {
      "cell_type": "code",
      "metadata": {
        "id": "ctfYiOVJ10FF"
      },
      "source": [
        "# Download data from Github\n",
        "! git clone https://github.com/MominRaza/Malicious-URL-Detection-with-ML.git\n",
        "  \n",
        "# Install dependencies\n",
        "! pip install nltk sklearn pandas matplotlib seaborn\n",
        "data_dir = \"Malicious-URL-Detection-with-ML/URLs.csv\""
      ],
      "execution_count": null,
      "outputs": []
    },
    {
      "cell_type": "code",
      "metadata": {
        "id": "z3llO4xb-eTK"
      },
      "source": [
        "# Common imports\n",
        "import pandas as pd\n",
        "import numpy as np\n",
        "import matplotlib.pyplot as plt\n",
        "import random\n",
        "import re\n",
        "\n",
        "%matplotlib inline\n",
        "\n",
        "# Import Scikit-learn helper functions\n",
        "from sklearn.model_selection import train_test_split\n",
        "from sklearn.feature_extraction.text import TfidfVectorizer, CountVectorizer\n",
        "\n",
        "# Import Scikit-learn models\n",
        "from sklearn.linear_model import LogisticRegression\n",
        "from sklearn.naive_bayes import MultinomialNB\n",
        "\n",
        "# Import Scikit-learn metric functions\n",
        "from sklearn.metrics import confusion_matrix, classification_report\n",
        "import seaborn as sns\n",
        "\n",
        "\n",
        "\n",
        "print(\"\\n### Libraries Imported ###\\n\")"
      ],
      "execution_count": null,
      "outputs": []
    },
    {
      "cell_type": "markdown",
      "metadata": {
        "id": "Q2Kzrx8970Zq"
      },
      "source": [
        "# Load the dataset\n",
        "With this set, we first need to load our CSV data."
      ]
    },
    {
      "cell_type": "code",
      "metadata": {
        "id": "Z6Cdtwmmd3w2"
      },
      "source": [
        "# Load the training data\n",
        "print(\"- Loading CSV Data -\")\n",
        "url_df = pd.read_csv(data_dir)\n",
        "\n",
        "test_url = url_df['URLs'][4]\n",
        "\n",
        "print(\"\\n### CSV Data Loaded ###\\n\")"
      ],
      "execution_count": null,
      "outputs": []
    },
    {
      "cell_type": "code",
      "metadata": {
        "id": "RiEuaSS_8DuT"
      },
      "source": [
        "# Let's see what our training data looks like\n",
        "print(url_df)"
      ],
      "execution_count": null,
      "outputs": []
    },
    {
      "cell_type": "code",
      "metadata": {
        "id": "hWVv0Lzl8UXi"
      },
      "source": [
        "# Perform Train/Test split\n",
        "test_percentage = .2\n",
        "\n",
        "train_df, test_df = train_test_split(url_df, test_size=test_percentage, random_state=42)\n",
        "\n",
        "labels = train_df['Class']\n",
        "test_labels = test_df['Class']\n",
        "\n",
        "print(\"\\n### Split Complete ###\\n\")"
      ],
      "execution_count": null,
      "outputs": []
    },
    {
      "cell_type": "code",
      "metadata": {
        "id": "sb9tYHkw9JTW"
      },
      "source": [
        "# Print counts of each class\n",
        "print(\"- Counting Splits -\")\n",
        "print(\"Training Samples:\", len(train_df))\n",
        "print(\"Testing Samples:\", len(test_df))\n",
        "\n",
        "# Graph counts of each class, for both training and testing\n",
        "count_train_classes = pd.value_counts(train_df['Class'])\n",
        "count_train_classes.plot(kind='bar', fontsize=16)\n",
        "plt.title(\"Class Count (Training)\", fontsize=20)\n",
        "plt.xticks(rotation='horizontal')\n",
        "plt.xlabel(\"Class\", fontsize=20)\n",
        "plt.ylabel(\"Class Count\", fontsize=20)\n",
        "\n",
        "plt.show()\n",
        "\n",
        "count_test_classes = pd.value_counts(test_df['Class'])\n",
        "count_test_classes.plot(kind='bar', fontsize=16, colormap='ocean')\n",
        "plt.title(\"Class Count (Testing)\", fontsize=20)\n",
        "plt.xticks(rotation='horizontal')\n",
        "plt.xlabel(\"Class\", fontsize=20)\n",
        "plt.ylabel(\"Class Count\", fontsize=20)\n",
        "\n",
        "plt.show()"
      ],
      "execution_count": null,
      "outputs": []
    },
    {
      "cell_type": "markdown",
      "metadata": {
        "id": "xXws95jzBpcC"
      },
      "source": [
        "# Tokenization\n",
        "Create our tokenizer by splitting URLs into their domains, subdomains, directories, files, and extensions."
      ]
    },
    {
      "cell_type": "code",
      "metadata": {
        "id": "qp30x8Ropo_P"
      },
      "source": [
        "# Define tokenizer\n",
        "#   The purpose of a tokenizer is to separate the features from the raw data\n",
        "\n",
        "\n",
        "def tokenizer(url):\n",
        "  \"\"\"Separates feature words from the raw data\n",
        "  Keyword arguments:\n",
        "    url ---- The full URL\n",
        "    \n",
        "  :Returns -- The tokenized words; returned as a list\n",
        "  \"\"\"\n",
        "  \n",
        "  # Split by slash (/) and dash (-)\n",
        "  tokens = re.split('[/-]', url)\n",
        "  \n",
        "  for i in tokens:\n",
        "    # Include the splits extensions and subdomains\n",
        "    if i.find(\".\") >= 0:\n",
        "      dot_split = i.split('.')\n",
        "      \n",
        "      # Remove .com and www. since they're too common\n",
        "      if \"com\" in dot_split:\n",
        "        dot_split.remove(\"com\")\n",
        "      if \"www\" in dot_split:\n",
        "        dot_split.remove(\"www\")\n",
        "      \n",
        "      tokens += dot_split\n",
        "      \n",
        "  return tokens\n",
        "    \n",
        "print(\"\\n### Tokenizer defined ###\\n\")"
      ],
      "execution_count": null,
      "outputs": []
    },
    {
      "cell_type": "code",
      "metadata": {
        "id": "7-ZpjlF47Coq"
      },
      "source": [
        "# Let's see how our tokenizer changes our URLs\n",
        "\n",
        "print(\"\\n- Full URL -\\n\")\n",
        "print(test_url)\n",
        "\n",
        "# Tokenize test URL\n",
        "print(\"\\n- Tokenized Output -\\n\")\n",
        "tokenized_url = tokenizer(test_url)\n",
        "print(tokenized_url)"
      ],
      "execution_count": null,
      "outputs": []
    },
    {
      "cell_type": "markdown",
      "metadata": {
        "id": "VJnB-FFwCKse"
      },
      "source": [
        "# Vectorize the Data\n",
        "Now that the training data has been loaded, we'll train the vectorizers to turn our features into numbers."
      ]
    },
    {
      "cell_type": "markdown",
      "metadata": {
        "id": "0FpyYEaK0AXK"
      },
      "source": [
        "## Train the vectorizers\n",
        "1. Create the count vectorizer **cVec** using the **CountVectorizer** function\n",
        "2. Configure *cVec* to use the *tokenizer* function from earlier\n",
        "3. Perform **fit_transform** on *cVec* to train the vectorizer with the *training URLs*\\\n",
        "a. Save the result as **count_X**\n",
        "\n",
        "\n",
        "4. Create the TF-IDF vectorizer **tVec** using the **TfidfVectorizer** function\n",
        "5. Configure *tVec* to use the *tokenizer* function from earlier\n",
        "6. Perform **fit_transform** on *tVec* to train the vectorizer with the *training URLs*\\\n",
        "a. Save the result as **tfidf_X** "
      ]
    },
    {
      "cell_type": "code",
      "metadata": {
        "id": "XAfNGyoMCRu7"
      },
      "source": [
        "# Vectorizer the training inputs -- Takes about 30 seconds to complete\n",
        "#   There are two types of vectors:\n",
        "#     1. Count vectorizer\n",
        "#     2. Term Frequency-Inverse Document Frequency (TF-IDF)\n",
        "\n",
        "print(\"- Training TF-IDF Vectorizer -\")\n",
        "tVec = TfidfVectorizer(tokenizer=tokenizer)\n",
        "tfidf_X = tVec.fit_transform(train_df['URLs'])\n",
        "\n",
        "\n",
        "print(\"\\n### Vectorizing Complete ###\\n\")"
      ],
      "execution_count": null,
      "outputs": []
    },
    {
      "cell_type": "markdown",
      "metadata": {
        "id": "UzC_VgqEE7mh"
      },
      "source": [
        "# Test and Evaluate the Models\n",
        "OK, we have our training data loaded and our testing data loaded. Now it's time to train and evaluate our models.\n",
        "\n",
        "But first, we're going to define a helper function to display our evaluation reports."
      ]
    },
    {
      "cell_type": "markdown",
      "metadata": {
        "id": "oybCUH9tzuJN"
      },
      "source": [
        "## Vectorize the testing data\n",
        "1. Use **cVec** to *transform* **test_df['URLs']**\\\n",
        "a. Save the result as **test_count_X**\n",
        "\n",
        "2. Use **tVec** to *transform* **test_df['URLs']**\\\n",
        "a. Save the result as **test_tfidf_X**"
      ]
    },
    {
      "cell_type": "code",
      "metadata": {
        "id": "gYfQhPItHBjz"
      },
      "source": [
        "# Vectorize the testing inputs\n",
        "#   Use 'transform' instead of 'fit_transform' because we've already trained our vectorizers\n",
        "\n",
        "print(\"- TFIDF Vectorizer -\")\n",
        "test_tfidf_X = tVec.transform(test_df['URLs'])\n",
        "\n",
        "\n",
        "print(\"\\n### Vectorizing Complete ###\\n\")"
      ],
      "execution_count": null,
      "outputs": []
    },
    {
      "cell_type": "code",
      "metadata": {
        "id": "32pzJ3naFICU"
      },
      "source": [
        "# Define report generator\n",
        "\n",
        "def generate_report(cmatrix, score, creport):\n",
        "  \"\"\"Generates and displays graphical reports\n",
        "  Keyword arguments:\n",
        "    cmatrix - Confusion matrix generated by the model\n",
        "    score --- Score generated by the model\n",
        "    creport - Classification Report generated by the model\n",
        "    \n",
        "  :Returns -- N/A\n",
        "  \"\"\"\n",
        "  \n",
        "  # Transform cmatrix because Sklearn has pred as columns and actual as rows.\n",
        "  cmatrix = cmatrix.T\n",
        "  \n",
        "  # Generate confusion matrix heatmap\n",
        "  plt.figure(figsize=(5,5))\n",
        "  sns.heatmap(cmatrix, \n",
        "              annot=True, \n",
        "              fmt=\"d\", \n",
        "              linewidths=.5, \n",
        "              square = True, \n",
        "              cmap = 'Blues', \n",
        "              annot_kws={\"size\": 16}, \n",
        "              xticklabels=['bad', 'good'],\n",
        "              yticklabels=['bad', 'good'])\n",
        "\n",
        "  plt.xticks(rotation='horizontal', fontsize=16)\n",
        "  plt.yticks(rotation='horizontal', fontsize=16)\n",
        "  plt.xlabel('Actual Label', size=20);\n",
        "  plt.ylabel('Predicted Label', size=20);\n",
        "\n",
        "  title = 'Accuracy Score: {0:.4f}'.format(score)\n",
        "  plt.title(title, size = 20);\n",
        "\n",
        "  # Display classification report and confusion matrix\n",
        "  print(creport)\n",
        "  plt.show()\n",
        "  \n",
        "\n",
        "print(\"\\n### Report Generator Defined ###\\n\")"
      ],
      "execution_count": null,
      "outputs": []
    },
    {
      "cell_type": "markdown",
      "metadata": {
        "id": "LzpIslDdzVJh"
      },
      "source": [
        "## Train and evaluate the LGS-TFIDF model\n",
        "1. Create **lgs_tfidf** as a **LogisticRegression()** constructor, using the **lbfgs** *solver*\n",
        "2. Use **fit** to train *lgs_tfidf* on the training data (*tfidf_X*) and training labels (*labels*)\n",
        "3. Evaluate the model with the testing data (*test_tfidf_X*) and testing labels (*test_labels*):\\\n",
        "a. Use the **score** function in *lgs_tfidf* to calculate model accuracy; save the results as **score_lgs_tfidf**\\\n",
        "b. Use the **predict** function in *lgs_tfidf* to generate model predictions; save the results as **predictions_lgs_tfidf**\\\n",
        "c. Generate the confusion matrix with **confusion_matrix**, using the predictons and labels; save the results as **cmatrix_lgs_tfidf**\\\n",
        "d. Generate the classification report with **classification_report**, using the predictions and labels; save the results as **creport_lgs_tfidf**"
      ]
    },
    {
      "cell_type": "code",
      "metadata": {
        "id": "C5x6-hlkItbB"
      },
      "source": [
        "# Logistic Regression with TF-IDF\n",
        "\n",
        "# Train the model\n",
        "lgs_tfidf = LogisticRegression(solver='lbfgs')\n",
        "lgs_tfidf.fit(tfidf_X, labels)\n",
        "\n",
        "\n",
        "# Test the mode (score, predictions, confusion matrix, classification report)\n",
        "score_lgs_tfidf = lgs_tfidf.score(test_tfidf_X, test_labels)\n",
        "predictions_lgs_tfidf = lgs_tfidf.predict(test_tfidf_X)\n",
        "cmatrix_lgs_tfidf = confusion_matrix(test_labels, predictions_lgs_tfidf)\n",
        "creport_lgs_tfidf = classification_report(test_labels, predictions_lgs_tfidf)\n",
        "\n",
        "print(\"\\n### Model Built ###\\n\")\n",
        "generate_report(cmatrix_lgs_tfidf, score_lgs_tfidf, creport_lgs_tfidf)"
      ],
      "execution_count": null,
      "outputs": []
    }
  ]
}